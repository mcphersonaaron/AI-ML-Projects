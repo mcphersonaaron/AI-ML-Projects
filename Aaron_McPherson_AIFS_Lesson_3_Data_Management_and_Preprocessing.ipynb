{
 "cells": [
  {
   "cell_type": "markdown",
   "id": "97a1a408",
   "metadata": {
    "id": "97a1a408"
   },
   "source": [
    "# Assignment #2: Data Management and Preprocessing"
   ]
  },
  {
   "cell_type": "markdown",
   "id": "ee251446",
   "metadata": {
    "id": "ee251446"
   },
   "source": [
    "## Data Management and Pre-processing\n",
    "\n",
    "In this section, we will delve into the crucial aspects of data management and pre-processing in the context of preparing data for machine learning models. Properly handling and transforming the raw data are essential steps that significantly impact the performance and reliability of your models. We will explore various techniques using popular Python libraries, such as pandas and scikit-learn, to address common challenges in real-world datasets.\n",
    "\n",
    "### Assignment Overview: AI/ML Solutions for Financial Services\n",
    "\n",
    "As part of the assignment, students will be tasked with developing AI/ML solutions for financial services. The objective is to build models that can effectively analyze and predict credit risk, a vital aspect in the financial industry. The assignment will cover topics ranging from dataset exploration, preprocessing, model development, to evaluation. Each step is crucial in ensuring the robustness and accuracy of the developed machine learning models.\n",
    "\n",
    "Let's proceed with a practical example to understand the fundamental steps involved in data management and pre-processing.\n"
   ]
  },
  {
   "cell_type": "markdown",
   "id": "6a641941",
   "metadata": {
    "id": "6a641941"
   },
   "source": [
    "## Paul's original data pre-processing code:"
   ]
  },
  {
   "cell_type": "code",
   "execution_count": 4,
   "id": "631333f1",
   "metadata": {
    "id": "631333f1",
    "outputId": "5ae0b464-e5d3-408b-a0b2-a07fd7615a5c"
   },
   "outputs": [
    {
     "name": "stdout",
     "output_type": "stream",
     "text": [
      "Original Data: \n",
      "    Age   Income Gender Loan_Status\n",
      "0  25.0  50000.0      M    Approved\n",
      "1  30.0  60000.0      F    Rejected\n",
      "2   NaN  75000.0      M    Approved\n",
      "3  35.0      NaN      F    Approved\n",
      "4  28.0  55000.0      M    Rejected\n",
      "\n",
      "Missing Data replaced with mean: \n",
      "    Age   Income Gender Loan_Status\n",
      "0  25.0  50000.0      M    Approved\n",
      "1  30.0  60000.0      F    Rejected\n",
      "2  29.5  75000.0      M    Approved\n",
      "3  35.0  60000.0      F    Approved\n",
      "4  28.0  55000.0      M    Rejected\n",
      "\n",
      "1-hot encoding categorical data: \n",
      "    Age   Income  Gender  Loan_Status\n",
      "0  25.0  50000.0       1            0\n",
      "1  30.0  60000.0       0            1\n",
      "2  29.5  75000.0       1            0\n",
      "3  35.0  60000.0       0            0\n",
      "4  28.0  55000.0       1            1\n",
      "\n",
      "Scaling numnerical features using StandardScaler: \n",
      "        Age    Income  Gender  Loan_Status\n",
      "0 -1.382164 -1.195229       1            0\n",
      "1  0.153574  0.000000       0            1\n",
      "2  0.000000  1.792843       1            0\n",
      "3  1.689312  0.000000       0            0\n",
      "4 -0.460721 -0.597614       1            1\n"
     ]
    }
   ],
   "source": [
    "#Import necessary libraries\n",
    "import pandas as pd\n",
    "from sklearn.preprocessing import StandardScaler, LabelEncoder\n",
    "from sklearn.impute import SimpleImputer\n",
    "\n",
    "#Sample data\n",
    "data = pd.DataFrame({\n",
    "    'Age': [25, 30, None, 35, 28],\n",
    "    'Income': [50000, 60000, 75000, None, 55000],\n",
    "    'Gender': ['M', 'F', 'M', 'F', 'M'],\n",
    "    'Loan_Status': ['Approved', 'Rejected', 'Approved', 'Approved', 'Rejected']\n",
    "})\n",
    "\n",
    "print(\"Original Data: \")\n",
    "print(data)\n",
    "\n",
    "#Handling missing values with mean imputation\n",
    "imputer = SimpleImputer(strategy='mean')\n",
    "data[['Age', 'Income']] = imputer.fit_transform(data[['Age', 'Income']])\n",
    "\n",
    "print(\"\\nMissing Data replaced with mean: \")\n",
    "print(data)\n",
    "\n",
    "#Encoding categorical variables (Gender and Loan_Status)\n",
    "le = LabelEncoder()\n",
    "data['Gender'] = le.fit_transform(data['Gender'])\n",
    "data['Loan_Status'] = le.fit_transform(data['Loan_Status'])\n",
    "\n",
    "print(\"\\n1-hot encoding categorical data: \")\n",
    "print(data)\n",
    "\n",
    "#Scaling numerical features (Age and Income) using StandardScaler\n",
    "scaler = StandardScaler()\n",
    "data[['Age', 'Income']] = scaler.fit_transform(data[['Age', 'Income']])\n",
    "\n",
    "#Display the preprocessed and cleansed data\n",
    "print(\"\\nScaling numnerical features using StandardScaler: \")\n",
    "print(data)"
   ]
  },
  {
   "cell_type": "markdown",
   "id": "43b86fc0",
   "metadata": {
    "id": "43b86fc0"
   },
   "source": [
    "## Explanation of Paul's Code:\n",
    "\n",
    "**Import Libraries:**\n",
    "\n",
    "- Import necessary libraries, including pandas for data manipulation and scikit-learn for data preprocessing.\n",
    "\n",
    "**Sample Data:**\n",
    "\n",
    "- Create a sample dataset with columns for 'Age,' 'Income,' 'Gender,' and 'Loan_Status.' Introduce missing values and use categorical variables intentionally.\n",
    "\n",
    "**Handling Missing Values:**\n",
    "\n",
    "- Use SimpleImputer to handle missing values in the 'Age' column by imputing the missing values with the mean of the non-missing values.\n",
    "\n",
    "**Encoding Categorical Variables:**\n",
    "\n",
    "- Use LabelEncoder to encode categorical variables 'Gender' and 'Loan_Status' into numerical labels.\n",
    "\n",
    "**Scaling Numerical Features:**\n",
    "\n",
    "- Use StandardScaler to scale numerical features 'Age' and 'Income' to standardize them, making their values comparable.\n",
    "\n",
    "**Display Data:**\n",
    "\n",
    "- Display the preprocessed and cleansed data at each step."
   ]
  },
  {
   "cell_type": "code",
   "execution_count": null,
   "id": "e857c523",
   "metadata": {
    "id": "e857c523"
   },
   "outputs": [],
   "source": []
  },
  {
   "cell_type": "markdown",
   "id": "b8bbd6d0",
   "metadata": {
    "id": "b8bbd6d0"
   },
   "source": [
    "# Assignment: Data Management and Pre-processing in Financial Services\n",
    "\n",
    "## Introduction:\n",
    "\n",
    "In this assignment, you will dive into the world of data management and pre-processing for financial services using a dataset from LendingClub. The goal is to apply essential data cleaning and transformation techniques to prepare the data for further analysis and modeling.\n",
    "\n",
    "## Tasks:\n",
    "\n",
    "1. **Data Loading:**\n",
    "   - Import the LendingClub Loan Data dataset, limiting the import to three numeric variables and three character variables.\n",
    "   - This step is spelled out in more detail below.  The Lending Club Loan Data dataset will be used in other projects, so it is best practices to load the dataset into your Jupyter Notebook directory.\n",
    "  \n",
    "2. **Data Exploration:**\n",
    "   - Conduct an initial exploration of the dataset, examining summary statistics and understanding the distribution of key variables.\n",
    "\n",
    "3. **Handling Missing Values:**\n",
    "   - Identify and handle missing values for numeric variables using an appropriate strategy (e.g., imputation).\n",
    "\n",
    "4. **Encoding Categorical Variables:**\n",
    "   - Utilize encoding techniques (e.g., one-hot encoding) for handling categorical variables.\n",
    "\n",
    "5. **Scaling Numerical Features:**\n",
    "   - Implement scaling on numeric features to standardize their values.\n",
    "\n",
    "## Grading:\n",
    "\n",
    "- **Data Loading (15%):**\n",
    "  - Successful import of the LendingClub dataset with specified limitations.\n",
    "\n",
    "- **Data Exploration (20%):**\n",
    "  - Effective exploration of key statistics and distribution of variables.\n",
    "\n",
    "- **Handling Missing Values (20%):**\n",
    "  - Appropriate identification and handling of missing values using a chosen strategy.\n",
    "\n",
    "- **Encoding Categorical Variables (20%):**\n",
    "  - Accurate encoding of categorical variables for enhanced model compatibility.\n",
    "\n",
    "- **Scaling Numerical Features (15%):**\n",
    "  - Proper implementation of scaling techniques on numeric features.\n",
    "\n",
    "- **Code Readability and Comments (10%):**\n",
    "  - Well-structured and commented code for clarity and understanding.\n",
    "\n",
    "## Submission Guidelines:\n",
    "\n",
    "- Submit a Jupyter notebook (.ipynb) containing your code, explanations, and results or a python file that I can run and generate your results.\n",
    "- Clearly label each section with corresponding task numbers.\n",
    "- Ensure code readability and provide comments where necessary.\n",
    "\n",
    "Feel free to reach out if you have any questions. Happy coding!\n"
   ]
  },
  {
   "cell_type": "code",
   "execution_count": null,
   "id": "2e57fd2b",
   "metadata": {
    "id": "2e57fd2b"
   },
   "outputs": [],
   "source": []
  },
  {
   "cell_type": "markdown",
   "id": "e95844e5",
   "metadata": {
    "id": "e95844e5"
   },
   "source": [
    "## LendingClub Dataset Setup\n",
    "\n",
    "### Overview:\n",
    "The LendingClub dataset will be utilized for various projects. To ensure best practices and seamless access, it's recommended to save the dataset CSV file in the same directory as your Jupyter notebook. Follow the steps below to download, extract, and load the dataset into your working directory.\n",
    "\n",
    "### Step-by-Step Guidance:\n",
    "\n",
    "1. **Download the LendingClub Dataset:**\n",
    "   - Visit the [LendingClub Dataset on Kaggle](https://www.kaggle.com/datasets/wordsforthewise/lending-club/).\n",
    "   - Click on the \"Download\" button to obtain the dataset in ZIP format.\n",
    "\n",
    "2. **Extract the Dataset:**\n",
    "   - Locate the downloaded ZIP file (e.g., `loan.zip`).\n",
    "   - Extract the contents to reveal the CSV file (`accepted_2007_to_2018q4.csv`).\n",
    "\n",
    "3. **Move the CSV to Your Notebook Directory:**\n",
    "   - Move the extracted CSV file to the directory where your Jupyter notebook resides.\n",
    "   - Alternatively, you can specify the full path to the CSV file in your notebook.\n",
    "\n",
    "4. **Load the Dataset in Your Notebook:**\n",
    "   - Use the following code to read the CSV file in your Jupyter notebook:\n",
    "     ```python\n",
    "     import pandas as pd\n",
    "\n",
    "     # Assuming the CSV file is in the same directory as your notebook\n",
    "     data = pd.read_csv('accepted_2007_to_2018q4.csv', low_memory=False)\n",
    "     ```\n",
    "\n",
    "By following these steps, you'll have the LendingClub dataset readily available for analysis in your Jupyter notebook.\n"
   ]
  },
  {
   "cell_type": "code",
   "execution_count": 1,
   "id": "13988cac",
   "metadata": {
    "colab": {
     "base_uri": "https://localhost:8080/",
     "height": 339
    },
    "id": "13988cac",
    "outputId": "04a446dd-3524-424d-add4-600f30d98f4b"
   },
   "outputs": [
    {
     "name": "stdout",
     "output_type": "stream",
     "text": [
      "   funded_amnt  installment home_ownership  annual_inc verification_status  \\\n",
      "0       3600.0       123.03       MORTGAGE     55000.0        Not Verified   \n",
      "1      24700.0       820.28       MORTGAGE     65000.0        Not Verified   \n",
      "2      20000.0       432.66       MORTGAGE     63000.0        Not Verified   \n",
      "3      35000.0       829.90       MORTGAGE    110000.0     Source Verified   \n",
      "4      10400.0       289.91       MORTGAGE    104433.0     Source Verified   \n",
      "\n",
      "  loan_status  \n",
      "0  Fully Paid  \n",
      "1  Fully Paid  \n",
      "2  Fully Paid  \n",
      "3     Current  \n",
      "4  Fully Paid  \n"
     ]
    }
   ],
   "source": [
    "import pandas as pd\n",
    "\n",
    "# To deal with file size limitations, we only load the three numeric\n",
    "# columns and three character columns specified\n",
    "cols = ['funded_amnt', 'installment', 'annual_inc','loan_status', 'verification_status', 'home_ownership']\n",
    "data = pd.read_csv('accepted_2007_to_2018q4.csv', low_memory=False, usecols=cols)\n",
    "print (data.head())"
   ]
  },
  {
   "cell_type": "markdown",
   "id": "599067e2-c2a1-40a4-949f-cda604a8ea54",
   "metadata": {},
   "source": [
    "Now we start examining the data by generating some summary statistics. First we import the necessary libraries:"
   ]
  },
  {
   "cell_type": "code",
   "execution_count": 11,
   "id": "9039720e-6d9d-4652-b1f8-fad082efadca",
   "metadata": {},
   "outputs": [],
   "source": [
    "from sklearn.preprocessing import StandardScaler, OneHotEncoder\n",
    "from sklearn.impute import SimpleImputer\n",
    "import numpy as np\n",
    "import matplotlib.pyplot as plt"
   ]
  },
  {
   "cell_type": "markdown",
   "id": "2273985c-d4b9-4e84-92fb-bd75b9f391e0",
   "metadata": {},
   "source": [
    "Now we generate the summary statistics:"
   ]
  },
  {
   "cell_type": "code",
   "execution_count": 5,
   "id": "18b1a1f9-5a2b-4dc7-b4a1-3f607e3ffeff",
   "metadata": {},
   "outputs": [
    {
     "name": "stdout",
     "output_type": "stream",
     "text": [
      "<class 'pandas.core.frame.DataFrame'>\n",
      "RangeIndex: 2260701 entries, 0 to 2260700\n",
      "Data columns (total 6 columns):\n",
      " #   Column               Dtype  \n",
      "---  ------               -----  \n",
      " 0   funded_amnt          float64\n",
      " 1   installment          float64\n",
      " 2   home_ownership       object \n",
      " 3   annual_inc           float64\n",
      " 4   verification_status  object \n",
      " 5   loan_status          object \n",
      "dtypes: float64(3), object(3)\n",
      "memory usage: 103.5+ MB\n",
      "None\n",
      "        funded_amnt   installment    annual_inc\n",
      "count  2.260668e+06  2.260668e+06  2.260664e+06\n",
      "mean   1.504166e+04  4.458068e+02  7.799243e+04\n",
      "std    9.188413e+03  2.671735e+02  1.126962e+05\n",
      "min    5.000000e+02  4.930000e+00  0.000000e+00\n",
      "25%    8.000000e+03  2.516500e+02  4.600000e+04\n",
      "50%    1.287500e+04  3.779900e+02  6.500000e+04\n",
      "75%    2.000000e+04  5.933200e+02  9.300000e+04\n",
      "max    4.000000e+04  1.719830e+03  1.100000e+08\n"
     ]
    }
   ],
   "source": [
    "# Print the characteristics of the dataset\n",
    "print(data.info())\n",
    "print(data.describe())"
   ]
  },
  {
   "cell_type": "markdown",
   "id": "9bfbe62f-7bf4-4382-9c1e-4f522e0b3137",
   "metadata": {},
   "source": [
    "We check for missing values:"
   ]
  },
  {
   "cell_type": "code",
   "execution_count": 7,
   "id": "5fbf39ef-6960-40be-9456-ddcc5064fb27",
   "metadata": {},
   "outputs": [
    {
     "data": {
      "text/plain": [
       "funded_amnt            33\n",
       "installment            33\n",
       "home_ownership         33\n",
       "annual_inc             37\n",
       "verification_status    33\n",
       "loan_status            33\n",
       "dtype: int64"
      ]
     },
     "execution_count": 7,
     "metadata": {},
     "output_type": "execute_result"
    }
   ],
   "source": [
    "data.isnull().sum()"
   ]
  },
  {
   "cell_type": "markdown",
   "id": "144b4f8e-422f-406c-b284-b26f5f81b4ae",
   "metadata": {},
   "source": [
    "To fill the missing values for the numeric data, we use a simple imputer.  However, first we need to ascertain the distribution of the data in order to decide whether to use the mean or median:"
   ]
  },
  {
   "cell_type": "code",
   "execution_count": 13,
   "id": "4f325f5c-9e5c-4d75-ab53-218c7074536c",
   "metadata": {},
   "outputs": [
    {
     "data": {
      "image/png": "[encoded data removed]",
      "text/plain": [
       "<Figure size 1000x1000 with 4 Axes>"
      ]
     },
     "metadata": {},
     "output_type": "display_data"
    }
   ],
   "source": [
    "# Print histograms of each independent variable to see the distribution\n",
    "data.hist(figsize=(10, 10))\n",
    "plt.show()"
   ]
  },
  {
   "cell_type": "markdown",
   "id": "51b60bb9-1420-4c4b-9ef5-8d0f9361352c",
   "metadata": {},
   "source": [
    "Since the distributions are skewed to the left, we decide to use the median rather than the mean:"
   ]
  },
  {
   "cell_type": "code",
   "execution_count": 15,
   "id": "b9ff3da9-a80a-4638-98b9-abb7d54d822e",
   "metadata": {},
   "outputs": [],
   "source": [
    "#Handling missing values with median imputation\n",
    "imputer = SimpleImputer(strategy='median')\n",
    "data[['funded_amnt', 'installment', 'annual_inc']] = imputer.fit_transform(data[['funded_amnt', 'installment', 'annual_inc']])"
   ]
  },
  {
   "cell_type": "markdown",
   "id": "1ece09b5-3746-47f7-a79f-60d749592f00",
   "metadata": {},
   "source": [
    "For the character columns, there is no way to know what value should be inserted, so we will drop the corresponding rows, making sure to make a copy of the original dataframe so the original is not affected:"
   ]
  },
  {
   "cell_type": "code",
   "execution_count": 17,
   "id": "b0a30b7f-1dea-488a-af7a-0b272e5b4048",
   "metadata": {},
   "outputs": [],
   "source": [
    "#Specific columns to check\n",
    "columns_to_check = ['home_ownership', 'verification_status', 'loan_status']\n",
    "\n",
    "#Drop rows where any of the specified columns have missing values\n",
    "data_cleaned = data.dropna(subset=columns_to_check).copy()"
   ]
  },
  {
   "cell_type": "markdown",
   "id": "5cc07323-3e03-4d4d-8381-23e5bf322251",
   "metadata": {},
   "source": [
    "Now we check to make sure there are no more missing values:"
   ]
  },
  {
   "cell_type": "code",
   "execution_count": 19,
   "id": "1739757e-e4f3-4c96-b4c2-7376a1f55b5a",
   "metadata": {},
   "outputs": [
    {
     "data": {
      "text/plain": [
       "funded_amnt            0\n",
       "installment            0\n",
       "home_ownership         0\n",
       "annual_inc             0\n",
       "verification_status    0\n",
       "loan_status            0\n",
       "dtype: int64"
      ]
     },
     "execution_count": 19,
     "metadata": {},
     "output_type": "execute_result"
    }
   ],
   "source": [
    "data_cleaned.isnull().sum()"
   ]
  },
  {
   "cell_type": "markdown",
   "id": "4d4ffc24-a5fd-45e6-8e4c-eaa762eeb954",
   "metadata": {},
   "source": [
    "We convert the categorical variables into dummy variables using OneHotEncoder:"
   ]
  },
  {
   "cell_type": "code",
   "execution_count": 21,
   "id": "274d78fa-217c-4e9b-897d-a35736efd7ca",
   "metadata": {},
   "outputs": [],
   "source": [
    "#Encoding categorical variables (home_ownership, verification_status, and loan_status)\n",
    "# Initialize the OneHotEncoder\n",
    "# sparse=False returns a numpy array instead of a sparse matrix\n",
    "# handle_unknown='ignore' prevents errors when the encoder encounters categories not seen during fit\n",
    "encoder = OneHotEncoder(sparse_output=False, handle_unknown='ignore')\n",
    "data_encoded = pd.DataFrame(encoder.fit_transform(data_cleaned[['home_ownership', 'verification_status', 'loan_status']]))\n",
    "# drop columns that have been encoded\n",
    "data_cleaned.drop(['home_ownership', 'verification_status', 'loan_status'], axis=1, inplace=True)\n",
    "# add the encoded columns back in\n",
    "data_combined = pd.concat([data_cleaned, data_encoded], axis=1)"
   ]
  },
  {
   "cell_type": "code",
   "execution_count": 23,
   "id": "37290bb5-7ce3-4e0a-bf2d-f5f7c5f8e9d3",
   "metadata": {},
   "outputs": [
    {
     "name": "stdout",
     "output_type": "stream",
     "text": [
      "   funded_amnt  installment  annual_inc    0    1    2    3    4    5    6  \\\n",
      "0       3600.0       123.03     55000.0  0.0  1.0  0.0  0.0  0.0  0.0  1.0   \n",
      "1      24700.0       820.28     65000.0  0.0  1.0  0.0  0.0  0.0  0.0  1.0   \n",
      "2      20000.0       432.66     63000.0  0.0  1.0  0.0  0.0  0.0  0.0  1.0   \n",
      "3      35000.0       829.90    110000.0  0.0  1.0  0.0  0.0  0.0  0.0  0.0   \n",
      "4      10400.0       289.91    104433.0  0.0  1.0  0.0  0.0  0.0  0.0  0.0   \n",
      "\n",
      "   ...    8    9   10   11   12   13   14   15   16   17  \n",
      "0  ...  0.0  0.0  0.0  0.0  0.0  0.0  1.0  0.0  0.0  0.0  \n",
      "1  ...  0.0  0.0  0.0  0.0  0.0  0.0  1.0  0.0  0.0  0.0  \n",
      "2  ...  0.0  0.0  0.0  0.0  0.0  0.0  1.0  0.0  0.0  0.0  \n",
      "3  ...  0.0  0.0  1.0  0.0  0.0  0.0  0.0  0.0  0.0  0.0  \n",
      "4  ...  0.0  0.0  0.0  0.0  0.0  0.0  1.0  0.0  0.0  0.0  \n",
      "\n",
      "[5 rows x 21 columns]\n"
     ]
    }
   ],
   "source": [
    "#check to see that the resulting dataframe looks right\n",
    "print(data_combined.head())"
   ]
  },
  {
   "cell_type": "markdown",
   "id": "109cae49-439c-466e-a715-c172ac956fb0",
   "metadata": {},
   "source": [
    "Finally, we scale the numeric features so their values are standardized:"
   ]
  },
  {
   "cell_type": "code",
   "execution_count": 25,
   "id": "bb6d5e95-42c1-4e53-ad15-2c834f279065",
   "metadata": {},
   "outputs": [],
   "source": [
    "#Scaling numerical features (funded_amnt, installment, and annual_inc) using StandardScaler\n",
    "scaler = StandardScaler()\n",
    "data_combined[['funded_amnt', 'installment', 'annual_inc']] = scaler.fit_transform(data_combined[['funded_amnt', 'installment', 'annual_inc']])"
   ]
  },
  {
   "cell_type": "code",
   "execution_count": 27,
   "id": "f205a683-44ee-42e1-9245-92fba96f1ab7",
   "metadata": {},
   "outputs": [
    {
     "name": "stdout",
     "output_type": "stream",
     "text": [
      "   funded_amnt  installment  annual_inc    0    1    2    3    4    5    6  \\\n",
      "0    -1.245228    -1.208117   -0.204021  0.0  1.0  0.0  0.0  0.0  0.0  1.0   \n",
      "1     1.051143     1.401611   -0.115287  0.0  1.0  0.0  0.0  0.0  0.0  1.0   \n",
      "2     0.539629    -0.049207   -0.133034  0.0  1.0  0.0  0.0  0.0  0.0  1.0   \n",
      "3     2.172121     1.437617    0.284017  0.0  1.0  0.0  0.0  0.0  0.0  0.0   \n",
      "4    -0.505165    -0.583504    0.234619  0.0  1.0  0.0  0.0  0.0  0.0  0.0   \n",
      "\n",
      "   ...    8    9   10   11   12   13   14   15   16   17  \n",
      "0  ...  0.0  0.0  0.0  0.0  0.0  0.0  1.0  0.0  0.0  0.0  \n",
      "1  ...  0.0  0.0  0.0  0.0  0.0  0.0  1.0  0.0  0.0  0.0  \n",
      "2  ...  0.0  0.0  0.0  0.0  0.0  0.0  1.0  0.0  0.0  0.0  \n",
      "3  ...  0.0  0.0  1.0  0.0  0.0  0.0  0.0  0.0  0.0  0.0  \n",
      "4  ...  0.0  0.0  0.0  0.0  0.0  0.0  1.0  0.0  0.0  0.0  \n",
      "\n",
      "[5 rows x 21 columns]\n"
     ]
    }
   ],
   "source": [
    "#check to see that the resulting dataframe looks right\n",
    "print(data_combined.head())"
   ]
  },
  {
   "cell_type": "code",
   "execution_count": null,
   "id": "0e61399e-07a7-454e-a515-d924f634f751",
   "metadata": {},
   "outputs": [],
   "source": []
  }
 ],
 "metadata": {
  "colab": {
   "provenance": []
  },
  "kernelspec": {
   "display_name": "Python [conda env:base] *",
   "language": "python",
   "name": "conda-base-py"
  },
  "language_info": {
   "codemirror_mode": {
    "name": "ipython",
    "version": 3
   },
   "file_extension": ".py",
   "mimetype": "text/x-python",
   "name": "python",
   "nbconvert_exporter": "python",
   "pygments_lexer": "ipython3",
   "version": "3.12.7"
  }
 },
 "nbformat": 4,
 "nbformat_minor": 5
}
